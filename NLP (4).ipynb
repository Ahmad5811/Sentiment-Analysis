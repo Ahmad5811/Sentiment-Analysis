{
 "cells": [
  {
   "cell_type": "markdown",
   "id": "c3067d5b",
   "metadata": {},
   "source": [
    "https://sentimentbau.streamlit.app/"
   ]
  },
  {
   "cell_type": "code",
   "execution_count": 1,
   "id": "31b034b4",
   "metadata": {
    "scrolled": true
   },
   "outputs": [
    {
     "name": "stdout",
     "output_type": "stream",
     "text": [
      "Requirement already satisfied: mysql-connector in c:\\users\\w10\\anaconda3\\lib\\site-packages (2.2.9)\n",
      "Note: you may need to restart the kernel to use updated packages.\n"
     ]
    }
   ],
   "source": [
    "pip install mysql-connector"
   ]
  },
  {
   "cell_type": "code",
   "execution_count": 2,
   "id": "997b6a3e",
   "metadata": {},
   "outputs": [
    {
     "name": "stdout",
     "output_type": "stream",
     "text": [
      "Requirement already satisfied: imbalanced-learn in c:\\users\\w10\\anaconda3\\lib\\site-packages (0.11.0)\n",
      "Requirement already satisfied: joblib>=1.1.1 in c:\\users\\w10\\anaconda3\\lib\\site-packages (from imbalanced-learn) (1.3.2)\n",
      "Requirement already satisfied: scipy>=1.5.0 in c:\\users\\w10\\anaconda3\\lib\\site-packages (from imbalanced-learn) (1.8.1)\n",
      "Requirement already satisfied: threadpoolctl>=2.0.0 in c:\\users\\w10\\anaconda3\\lib\\site-packages (from imbalanced-learn) (2.2.0)\n",
      "Requirement already satisfied: scikit-learn>=1.0.2 in c:\\users\\w10\\anaconda3\\lib\\site-packages (from imbalanced-learn) (1.0.2)\n",
      "Requirement already satisfied: numpy>=1.17.3 in c:\\users\\w10\\anaconda3\\lib\\site-packages (from imbalanced-learn) (1.22.4)\n",
      "Note: you may need to restart the kernel to use updated packages.\n"
     ]
    }
   ],
   "source": [
    "pip install imbalanced-learn"
   ]
  },
  {
   "cell_type": "markdown",
   "id": "fdce3d82",
   "metadata": {},
   "source": [
    "# Import Libraries"
   ]
  },
  {
   "cell_type": "code",
   "execution_count": 3,
   "id": "d41a168a",
   "metadata": {},
   "outputs": [
    {
     "name": "stderr",
     "output_type": "stream",
     "text": [
      "[nltk_data] Downloading package stopwords to\n",
      "[nltk_data]     C:\\Users\\W10\\AppData\\Roaming\\nltk_data...\n",
      "[nltk_data]   Package stopwords is already up-to-date!\n"
     ]
    }
   ],
   "source": [
    "import mysql.connector as sql\n",
    "import numpy as np\n",
    "import pandas as pd\n",
    "import seaborn as sns\n",
    "import re\n",
    "import string\n",
    "import nltk\n",
    "from nltk.corpus import stopwords\n",
    "nltk.download('stopwords')\n",
    "from lazypredict.Supervised import LazyRegressor\n",
    "from tqdm.notebook import tqdm\n",
    "from nltk.stem import PorterStemmer\n",
    "from sklearn.tree import DecisionTreeClassifier\n",
    "from sklearn.feature_extraction.text import CountVectorizer,TfidfVectorizer\n",
    "from sklearn.model_selection import train_test_split\n",
    "from sklearn.naive_bayes import MultinomialNB,GaussianNB\n",
    "from sklearn.linear_model import LogisticRegression\n",
    "from sklearn.ensemble import RandomForestClassifier\n",
    "from sklearn.svm import SVC\n",
    "from imblearn.over_sampling import SMOTE\n",
    "from sklearn.metrics import confusion_matrix,accuracy_score,classification_report,r2_score"
   ]
  },
  {
   "cell_type": "markdown",
   "id": "d0f9939f",
   "metadata": {},
   "source": [
    "# Read Data"
   ]
  },
  {
   "cell_type": "code",
   "execution_count": 4,
   "id": "0d3b65e6",
   "metadata": {},
   "outputs": [],
   "source": [
    "mydb=sql.connect(host=\"localhost\",user=\"root\",password=\"7moood58\",database=\"sales\",auth_plugin=\"mysql_native_password\")\n",
    "cur=mydb.cursor(buffered=True)"
   ]
  },
  {
   "cell_type": "code",
   "execution_count": 5,
   "id": "38503995",
   "metadata": {},
   "outputs": [
    {
     "name": "stdout",
     "output_type": "stream",
     "text": [
      "('dim_customer',)\n",
      "('dim_location',)\n",
      "('dim_order',)\n",
      "('dim_product',)\n",
      "('dim_ship',)\n",
      "('fact_sales',)\n",
      "('review',)\n"
     ]
    }
   ],
   "source": [
    "query1=\"show tables\"\n",
    "cur.execute(query1)\n",
    "data_bases=cur.fetchall()\n",
    "for table in data_bases:\n",
    "    print(table)"
   ]
  },
  {
   "cell_type": "code",
   "execution_count": 6,
   "id": "ffeda10e",
   "metadata": {},
   "outputs": [],
   "source": [
    "query=\"select * from review\"\n",
    "cur.execute(query)"
   ]
  },
  {
   "cell_type": "code",
   "execution_count": 7,
   "id": "91649606",
   "metadata": {
    "scrolled": false
   },
   "outputs": [
    {
     "data": {
      "text/html": [
       "<div>\n",
       "<style scoped>\n",
       "    .dataframe tbody tr th:only-of-type {\n",
       "        vertical-align: middle;\n",
       "    }\n",
       "\n",
       "    .dataframe tbody tr th {\n",
       "        vertical-align: top;\n",
       "    }\n",
       "\n",
       "    .dataframe thead th {\n",
       "        text-align: right;\n",
       "    }\n",
       "</style>\n",
       "<table border=\"1\" class=\"dataframe\">\n",
       "  <thead>\n",
       "    <tr style=\"text-align: right;\">\n",
       "      <th></th>\n",
       "      <th>review_key</th>\n",
       "      <th>review</th>\n",
       "      <th>Rating</th>\n",
       "      <th>customer_id</th>\n",
       "    </tr>\n",
       "  </thead>\n",
       "  <tbody>\n",
       "    <tr>\n",
       "      <th>0</th>\n",
       "      <td>294919</td>\n",
       "      <td>Five Stars</td>\n",
       "      <td>5</td>\n",
       "      <td>TB-21400</td>\n",
       "    </tr>\n",
       "    <tr>\n",
       "      <th>1</th>\n",
       "      <td>294920</td>\n",
       "      <td>Not Keto Not for Diabetics</td>\n",
       "      <td>1</td>\n",
       "      <td>JG-15805</td>\n",
       "    </tr>\n",
       "    <tr>\n",
       "      <th>2</th>\n",
       "      <td>294921</td>\n",
       "      <td>used it for my toilet bowl container. does sam...</td>\n",
       "      <td>5</td>\n",
       "      <td>GZ-14470</td>\n",
       "    </tr>\n",
       "    <tr>\n",
       "      <th>3</th>\n",
       "      <td>294922</td>\n",
       "      <td>Perfect drop in upgrade straight out of the pa...</td>\n",
       "      <td>5</td>\n",
       "      <td>EB-14110</td>\n",
       "    </tr>\n",
       "    <tr>\n",
       "      <th>4</th>\n",
       "      <td>294923</td>\n",
       "      <td>Solid Office Chair! I love It!</td>\n",
       "      <td>4</td>\n",
       "      <td>BT-11440</td>\n",
       "    </tr>\n",
       "    <tr>\n",
       "      <th>...</th>\n",
       "      <td>...</td>\n",
       "      <td>...</td>\n",
       "      <td>...</td>\n",
       "      <td>...</td>\n",
       "    </tr>\n",
       "    <tr>\n",
       "      <th>8228</th>\n",
       "      <td>303147</td>\n",
       "      <td>Strong and long lasting</td>\n",
       "      <td>5</td>\n",
       "      <td>JC-15775</td>\n",
       "    </tr>\n",
       "    <tr>\n",
       "      <th>8229</th>\n",
       "      <td>303148</td>\n",
       "      <td>Five Stars</td>\n",
       "      <td>5</td>\n",
       "      <td>EN-13780</td>\n",
       "    </tr>\n",
       "    <tr>\n",
       "      <th>8230</th>\n",
       "      <td>303149</td>\n",
       "      <td>Five Stars</td>\n",
       "      <td>5</td>\n",
       "      <td>TP-21415</td>\n",
       "    </tr>\n",
       "    <tr>\n",
       "      <th>8231</th>\n",
       "      <td>303150</td>\n",
       "      <td>Useful for cleaning the litter box</td>\n",
       "      <td>5</td>\n",
       "      <td>CV-12805</td>\n",
       "    </tr>\n",
       "    <tr>\n",
       "      <th>8232</th>\n",
       "      <td>303151</td>\n",
       "      <td>Four Stars</td>\n",
       "      <td>4</td>\n",
       "      <td>KB-16240</td>\n",
       "    </tr>\n",
       "  </tbody>\n",
       "</table>\n",
       "<p>8233 rows × 4 columns</p>\n",
       "</div>"
      ],
      "text/plain": [
       "      review_key                                             review  Rating  \\\n",
       "0         294919                                         Five Stars       5   \n",
       "1         294920                         Not Keto Not for Diabetics       1   \n",
       "2         294921  used it for my toilet bowl container. does sam...       5   \n",
       "3         294922  Perfect drop in upgrade straight out of the pa...       5   \n",
       "4         294923                     Solid Office Chair! I love It!       4   \n",
       "...          ...                                                ...     ...   \n",
       "8228      303147                            Strong and long lasting       5   \n",
       "8229      303148                                         Five Stars       5   \n",
       "8230      303149                                         Five Stars       5   \n",
       "8231      303150                 Useful for cleaning the litter box       5   \n",
       "8232      303151                                         Four Stars       4   \n",
       "\n",
       "     customer_id  \n",
       "0       TB-21400  \n",
       "1       JG-15805  \n",
       "2       GZ-14470  \n",
       "3       EB-14110  \n",
       "4       BT-11440  \n",
       "...          ...  \n",
       "8228    JC-15775  \n",
       "8229    EN-13780  \n",
       "8230    TP-21415  \n",
       "8231    CV-12805  \n",
       "8232    KB-16240  \n",
       "\n",
       "[8233 rows x 4 columns]"
      ]
     },
     "execution_count": 7,
     "metadata": {},
     "output_type": "execute_result"
    }
   ],
   "source": [
    "data=pd.read_sql(query,mydb)\n",
    "data"
   ]
  },
  {
   "cell_type": "markdown",
   "id": "ce4e6366",
   "metadata": {},
   "source": [
    "# Information "
   ]
  },
  {
   "cell_type": "code",
   "execution_count": 8,
   "id": "cd2ca7d9",
   "metadata": {
    "scrolled": false
   },
   "outputs": [
    {
     "name": "stdout",
     "output_type": "stream",
     "text": [
      "<class 'pandas.core.frame.DataFrame'>\n",
      "RangeIndex: 8233 entries, 0 to 8232\n",
      "Data columns (total 4 columns):\n",
      " #   Column       Non-Null Count  Dtype \n",
      "---  ------       --------------  ----- \n",
      " 0   review_key   8233 non-null   int64 \n",
      " 1   review       8233 non-null   object\n",
      " 2   Rating       8233 non-null   int64 \n",
      " 3   customer_id  8233 non-null   object\n",
      "dtypes: int64(2), object(2)\n",
      "memory usage: 257.4+ KB\n"
     ]
    }
   ],
   "source": [
    "data.info()"
   ]
  },
  {
   "cell_type": "code",
   "execution_count": 9,
   "id": "17dee4b6",
   "metadata": {
    "scrolled": true
   },
   "outputs": [
    {
     "data": {
      "text/plain": [
       "5    5192\n",
       "4    1295\n",
       "3     710\n",
       "1     598\n",
       "2     438\n",
       "Name: Rating, dtype: int64"
      ]
     },
     "execution_count": 9,
     "metadata": {},
     "output_type": "execute_result"
    },
    {
     "data": {
      "image/png": "[encoded data removed]",
      "text/plain": [
       "<Figure size 432x288 with 1 Axes>"
      ]
     },
     "metadata": {
      "needs_background": "light"
     },
     "output_type": "display_data"
    }
   ],
   "source": [
    "sns.countplot(data['Rating'])\n",
    "data['Rating'].value_counts()"
   ]
  },
  {
   "cell_type": "markdown",
   "id": "d85107a1",
   "metadata": {},
   "source": [
    "# Pre-processing Data"
   ]
  },
  {
   "cell_type": "code",
   "execution_count": 10,
   "id": "43420778",
   "metadata": {
    "scrolled": false
   },
   "outputs": [
    {
     "name": "stdout",
     "output_type": "stream",
     "text": [
      "Good product for the price & for just keeping pets seated\n",
      "5\n"
     ]
    }
   ],
   "source": [
    "a=data['review'][22]\n",
    "b=data['Rating'][22]\n",
    "print(a)\n",
    "print(b)"
   ]
  },
  {
   "cell_type": "code",
   "execution_count": 11,
   "id": "1de16fc6",
   "metadata": {},
   "outputs": [
    {
     "data": {
      "text/plain": [
       "'Good product for the price   for just keeping pets seated'"
      ]
     },
     "execution_count": 11,
     "metadata": {},
     "output_type": "execute_result"
    }
   ],
   "source": [
    "a=re.sub('[^a-zA-Z,]',' ',a)\n",
    "a"
   ]
  },
  {
   "cell_type": "code",
   "execution_count": 12,
   "id": "41e0d463",
   "metadata": {
    "scrolled": true
   },
   "outputs": [
    {
     "data": {
      "text/plain": [
       "'good product for the price   for just keeping pets seated'"
      ]
     },
     "execution_count": 12,
     "metadata": {},
     "output_type": "execute_result"
    }
   ],
   "source": [
    "a=a.lower()\n",
    "a"
   ]
  },
  {
   "cell_type": "code",
   "execution_count": 13,
   "id": "a9867e77",
   "metadata": {
    "scrolled": false
   },
   "outputs": [
    {
     "data": {
      "text/plain": [
       "['good',\n",
       " 'product',\n",
       " 'for',\n",
       " 'the',\n",
       " 'price',\n",
       " 'for',\n",
       " 'just',\n",
       " 'keeping',\n",
       " 'pets',\n",
       " 'seated']"
      ]
     },
     "execution_count": 13,
     "metadata": {},
     "output_type": "execute_result"
    }
   ],
   "source": [
    "a=a.split()\n",
    "a"
   ]
  },
  {
   "cell_type": "code",
   "execution_count": 14,
   "id": "2521c35e",
   "metadata": {},
   "outputs": [
    {
     "data": {
      "text/plain": [
       "['good', 'product', 'price', 'keeping', 'pets', 'seated']"
      ]
     },
     "execution_count": 14,
     "metadata": {},
     "output_type": "execute_result"
    }
   ],
   "source": [
    "a1=[]\n",
    "for word in a:\n",
    "    if word not in stopwords.words('english'):\n",
    "        a1.append(word)\n",
    "    if word in (['not','very','more']):\n",
    "        a1.append(word)\n",
    "a1"
   ]
  },
  {
   "cell_type": "code",
   "execution_count": 15,
   "id": "3ecddc35",
   "metadata": {},
   "outputs": [
    {
     "data": {
      "text/plain": [
       "['good', 'product', 'price', 'keep', 'pet', 'seat']"
      ]
     },
     "execution_count": 15,
     "metadata": {},
     "output_type": "execute_result"
    }
   ],
   "source": [
    "s=PorterStemmer()\n",
    "a2=[]\n",
    "for i in a1:\n",
    "    b=s.stem(i)\n",
    "    a2.append(b)\n",
    "a2"
   ]
  },
  {
   "cell_type": "code",
   "execution_count": 16,
   "id": "1cc1c601",
   "metadata": {
    "scrolled": false
   },
   "outputs": [
    {
     "data": {
      "text/plain": [
       "'good product price keep pet seat'"
      ]
     },
     "execution_count": 16,
     "metadata": {},
     "output_type": "execute_result"
    }
   ],
   "source": [
    "a=' '.join(a2)\n",
    "a"
   ]
  },
  {
   "cell_type": "code",
   "execution_count": 17,
   "id": "93dcf328",
   "metadata": {
    "scrolled": false
   },
   "outputs": [
    {
     "data": {
      "text/plain": [
       "array([[1., 0., 0., 0., 0., 0.],\n",
       "       [0., 0., 0., 0., 1., 0.],\n",
       "       [0., 0., 0., 1., 0., 0.],\n",
       "       [0., 1., 0., 0., 0., 0.],\n",
       "       [0., 0., 1., 0., 0., 0.],\n",
       "       [0., 0., 0., 0., 0., 1.]])"
      ]
     },
     "execution_count": 17,
     "metadata": {},
     "output_type": "execute_result"
    }
   ],
   "source": [
    "cv=TfidfVectorizer()\n",
    "cv.fit_transform(a.split()).toarray()"
   ]
  },
  {
   "cell_type": "code",
   "execution_count": 18,
   "id": "34e37b71",
   "metadata": {
    "scrolled": false
   },
   "outputs": [
    {
     "data": {
      "text/plain": [
       "['five star',\n",
       " 'not keto not diabet',\n",
       " 'use toilet bowl contain',\n",
       " 'perfect drop upgrad straight packag',\n",
       " 'solid offic chair love',\n",
       " 'wire sorter work great art work',\n",
       " 'suppos non chines salt not sure',\n",
       " 'pot great would recommend anyon use',\n",
       " 'good qualiti look',\n",
       " 'excel cat litter box scooper',\n",
       " 'boy love flavor tummi issu',\n",
       " 'good deal',\n",
       " 'keto approv dessert',\n",
       " 'love case',\n",
       " 'favorit cracker moment',\n",
       " 'favorit',\n",
       " 'five star',\n",
       " 'turn perfect',\n",
       " 'cheap flimsi',\n",
       " 'great size',\n",
       " 'five star',\n",
       " '',\n",
       " 'good product price keep pet seat',\n",
       " 'five star',\n",
       " 'five star',\n",
       " 'fri food',\n",
       " 'light weight compact easi storag easi use complic sandwich combo learn',\n",
       " 'larg size cozi',\n",
       " 'wast money',\n",
       " 'read',\n",
       " 'lot use great product',\n",
       " 'cat super thrill',\n",
       " 'game changer',\n",
       " 'love love love',\n",
       " 'cap doesnt fit',\n",
       " 'good may crack',\n",
       " 'good ruler print wear',\n",
       " 'two star',\n",
       " 'four star',\n",
       " 'cute clever good qualiti card',\n",
       " 'great chair',\n",
       " 'ingredi chang worst',\n",
       " 'work pug',\n",
       " 'four star',\n",
       " 'last long great go bake',\n",
       " 'safe fanci bell loud wake',\n",
       " 'good game',\n",
       " 'great case price',\n",
       " 'five star',\n",
       " 'recommend tast test',\n",
       " 'five star',\n",
       " 'stuff work',\n",
       " 'great qualiti ball pricey',\n",
       " 'advertis',\n",
       " 'five star',\n",
       " 'more stink',\n",
       " 'great product',\n",
       " 'veri light weight neat',\n",
       " 'flavor',\n",
       " 'five star',\n",
       " 'three star',\n",
       " 'commun w seller excel fast deliveri',\n",
       " 'ingredi list includ cashew',\n",
       " 'four star',\n",
       " 'love tast bottl',\n",
       " 'not love okay',\n",
       " 'four star',\n",
       " 'nice grill cover',\n",
       " 'easi not healthi obvious',\n",
       " 'save money go feminin hygein aisl cv',\n",
       " 'overal pretti good conveni go breakfast',\n",
       " 'four star',\n",
       " 'durabl question',\n",
       " 'winner',\n",
       " 'poor qualiti',\n",
       " 'veri cute',\n",
       " 'excel',\n",
       " 'good treat',\n",
       " 'excel germin',\n",
       " 'pretti fun',\n",
       " 'love cooki',\n",
       " 'smell great easi rins leav shini coat',\n",
       " 'deworm litter ten pup work great pup pass worm next',\n",
       " 'think work',\n",
       " 'one star',\n",
       " 'medicin help curb cat diarrhea',\n",
       " 'would recommend brand jerki lover',\n",
       " 'not greatest got job done',\n",
       " 'cute',\n",
       " 'good deal',\n",
       " 'thin case',\n",
       " 'dog food made usa',\n",
       " 'sturdi construct excel custom servic overal great product price',\n",
       " 'cat picki palat love',\n",
       " 'five star',\n",
       " 'buy',\n",
       " 'great product',\n",
       " 'perfect',\n",
       " 'noth indic contain seal',\n",
       " 'littl bit pain get kong',\n",
       " 'five star',\n",
       " 'buy not fault product',\n",
       " 'great addit oatmeal high vitamin c',\n",
       " 'good',\n",
       " 'would like lead rope longer',\n",
       " 'work well pricey',\n",
       " 'five star',\n",
       " 'five star',\n",
       " 'star',\n",
       " 'not notic waaa',\n",
       " 'yum',\n",
       " 'flap veri hard open dog',\n",
       " 'actual use second topper pair can soda can human food work great',\n",
       " 'perfect walk trip dog park',\n",
       " 'excel',\n",
       " 'good coffe good price',\n",
       " 'veri comfort',\n",
       " 'three star',\n",
       " 'good price amount get',\n",
       " 'good',\n",
       " 'one star',\n",
       " 'great use crochet hook',\n",
       " 'perfect fit honda gener good price',\n",
       " 'good fit nice qualiti',\n",
       " 'iphon se case',\n",
       " 'best tea ever tri smooth',\n",
       " 'perfect larg veri strong dog',\n",
       " 'not greatest toy',\n",
       " 'ador use care plastic buckl',\n",
       " 'find anyth mask flavor disappoint',\n",
       " 'collar work well bark aussi shepard',\n",
       " 'delici low carb',\n",
       " 'tast like ad burn tast mine',\n",
       " 'kibbl larg dog issu eatingit',\n",
       " 'great valu fight odor like boss littl dusti',\n",
       " 'five star',\n",
       " 'five star',\n",
       " 'great job',\n",
       " 'know work',\n",
       " 'five star',\n",
       " 'five star',\n",
       " 'more durabl',\n",
       " 'highli recommend',\n",
       " 'four star',\n",
       " 'disappoint',\n",
       " 'dog new best friend',\n",
       " 'like veri much suppos',\n",
       " 'great write',\n",
       " 'booster bath set easi assembl fit perfectli shower',\n",
       " 'four star',\n",
       " 'also love food supplier two reason',\n",
       " 'heavi duti',\n",
       " 'beauti case thing like',\n",
       " 'tri flavor like one',\n",
       " 'four star',\n",
       " 'work great first got puppi',\n",
       " 'seem freshen room',\n",
       " 'five star',\n",
       " 'best snowplow ever own',\n",
       " 'two star',\n",
       " 'four star',\n",
       " 'dream mmo mous',\n",
       " 'pup love tast',\n",
       " 'print profession document paper nice',\n",
       " 'two star',\n",
       " 'mix yogurt bacon dog treat love not work',\n",
       " 'love clip',\n",
       " 'two star',\n",
       " 'cat drink water think like lol work great',\n",
       " 'not vegan',\n",
       " 'still fun play',\n",
       " 'make world differ',\n",
       " 'happi add salad',\n",
       " 'three star',\n",
       " 'cigar box guitar build work fine easi instal look nice',\n",
       " 'work expect',\n",
       " 'nice tool',\n",
       " 'great gravi use',\n",
       " 'one star',\n",
       " 'bad clip',\n",
       " 'cat ignor easili dislodg',\n",
       " 'great toy',\n",
       " 'hold color not shred want flag',\n",
       " 'five star',\n",
       " 'work intend',\n",
       " 'pug say paw',\n",
       " 'get fiskar softouch micro tip prune snip instead',\n",
       " 'alright recommend',\n",
       " 'son love use make fun use lesson',\n",
       " 'would probabl tasti event zombi apocalyps',\n",
       " 'broke month',\n",
       " 'disappoint purchas',\n",
       " 'love',\n",
       " 'fantast',\n",
       " 'bewar carb',\n",
       " 'good product',\n",
       " 'fantast jacket',\n",
       " 'noth els would ue',\n",
       " 'good oil fri',\n",
       " 'not fresh',\n",
       " 'indispens item aquarium tool chest',\n",
       " 'mani almond',\n",
       " 'perfect studi etc',\n",
       " 'not worth money',\n",
       " 'five star',\n",
       " 'still enjoy sever month',\n",
       " 'yummi',\n",
       " 'great substrat newli start tank',\n",
       " 'cat not like',\n",
       " 'good screen protector',\n",
       " 'great coffe',\n",
       " 'great phn case not samsung j',\n",
       " 'great product',\n",
       " 'tast terribl',\n",
       " 'perfect travel bowl',\n",
       " 'cute not practic fall dispens tape',\n",
       " 'love train go realli good lb',\n",
       " 'great keep busi minut care stomach issu',\n",
       " 'good price',\n",
       " 'fun appeal enough play sever time',\n",
       " 'recommend vet dog love',\n",
       " 'great sensit eye',\n",
       " 'perfect extra long skein',\n",
       " 'good look keep phone veri safe',\n",
       " 'yup',\n",
       " 'nice',\n",
       " 'must reptil terrarium vivarium',\n",
       " 'lot duplic set',\n",
       " 'fix',\n",
       " 'good daili time track schedul',\n",
       " 'meant',\n",
       " 'describ',\n",
       " 'wish flat bottom not',\n",
       " 'veri good product seem longer last',\n",
       " 'five star',\n",
       " 'nice',\n",
       " 'five star',\n",
       " 'five star',\n",
       " 'great product',\n",
       " 'good banjo string',\n",
       " 'great cinnamon flavor',\n",
       " 'one star',\n",
       " 'dog bone',\n",
       " 'love mice',\n",
       " 'cat absolut love',\n",
       " 'sister love gift',\n",
       " 'star dog ate fifth star',\n",
       " 'super well design box versatil ideal retail sale',\n",
       " 'older dog like much buy one',\n",
       " 'five star',\n",
       " 'not one singl wasp attract',\n",
       " 'realli like practic bit',\n",
       " 'excel belgian chocol cooki wafer',\n",
       " 'fit pocket',\n",
       " 'use griddl melt provolon steak sandwich good construct clean easili',\n",
       " 'cat dog like bed',\n",
       " 'deserv call curri powder',\n",
       " 'four star',\n",
       " 'accomod har hook ya hoo',\n",
       " 'three star',\n",
       " 'great qualiti label',\n",
       " 'five star',\n",
       " 'veri poor qualiti key cap',\n",
       " 'burner charbroil grill protect bad weather fine',\n",
       " 'great protector look amaz phone',\n",
       " 'never recommend',\n",
       " 'gf mapl buckwheat cereal best tast stay crunchi',\n",
       " 'stubbi',\n",
       " 'good tool',\n",
       " 'ergonom accur',\n",
       " 'thing differ color',\n",
       " 'work well easi instal',\n",
       " 'awesom lentil',\n",
       " 'work great puppi australian shepherd not',\n",
       " 'good price small soft',\n",
       " 'cheap materi',\n",
       " 'one star',\n",
       " 'old pup approv',\n",
       " 'perfect height size cat',\n",
       " 'five star',\n",
       " 'tasti',\n",
       " 'thought would veri squeaki great bounc',\n",
       " 'glad found match doll',\n",
       " 'fantast protect low profil compar otterbox',\n",
       " 'great flavor',\n",
       " 'five star',\n",
       " 'adult cat enjoy lay top sleep play bottom',\n",
       " 'refurbish misfit machin issu',\n",
       " 'work well',\n",
       " 'good price',\n",
       " 'not dog like tear toy',\n",
       " 'know other thought qualiti good quilter like',\n",
       " 'five star',\n",
       " 'fit',\n",
       " 'use',\n",
       " 'excel hose unhook use',\n",
       " 'great',\n",
       " 'great cat dog chow',\n",
       " 'price great instal easi',\n",
       " 'not gluten free',\n",
       " 'four star',\n",
       " 'low price great get pay',\n",
       " 'work line around cut veri',\n",
       " 'smell yummi',\n",
       " 'one star',\n",
       " 'work',\n",
       " 'cat like live realli picki',\n",
       " 'landard',\n",
       " 'easili sew bag nice weight',\n",
       " 'fresh delici',\n",
       " 'sound great remind much chang string bring',\n",
       " 'dog eat',\n",
       " 'highli recommend repeat custom good reason',\n",
       " 'hit miss come soft dri',\n",
       " 'seller work anoth seller',\n",
       " 'great cage use time bark',\n",
       " 'get job done',\n",
       " 'stuff almost liquid work great',\n",
       " 'good pancak mix',\n",
       " 'work great surfac stain need multipl pass deeper stain',\n",
       " 'five star',\n",
       " 'small quantiti work not',\n",
       " 'love harmonica',\n",
       " 'four star',\n",
       " 'five star',\n",
       " 'dull dull dull blade',\n",
       " 'four star',\n",
       " 'well packag arriv state',\n",
       " 'good product',\n",
       " 'five star',\n",
       " 'like captur litter',\n",
       " 'exactli describ',\n",
       " 'two star',\n",
       " 'like old',\n",
       " 'nice box',\n",
       " 'kind smelli crumbl paw',\n",
       " 'ultra fine metal tip glue bottl',\n",
       " 'nice qualiti work great',\n",
       " 'best ive tri way better primal',\n",
       " 'arriv broken long run',\n",
       " 'final found ball pup',\n",
       " 'printer ink',\n",
       " 'three star',\n",
       " 'use three time week get good solid result',\n",
       " 'fantast tast',\n",
       " 'pictur want',\n",
       " 'work great',\n",
       " 'malik review',\n",
       " 'realli cute right size',\n",
       " 'veri easi appli minim drift not',\n",
       " 'veggi love grow planter',\n",
       " 'cat may love would not touch',\n",
       " 'dog love',\n",
       " 'use newspap sand',\n",
       " 'would mcgyver',\n",
       " 'glad',\n",
       " 'handl carri ga handl',\n",
       " 'wonder',\n",
       " 'not buy',\n",
       " 'also like shut valv run fuel',\n",
       " 'actual work everi time',\n",
       " 'flower stay two month happi',\n",
       " 'five star',\n",
       " 'veri cool realist full moon',\n",
       " 'tast exactli like tea ive asia',\n",
       " 'recommend',\n",
       " 'love',\n",
       " 'dog seem like seem durabl slip',\n",
       " 'not worth',\n",
       " 'not stop urinari incontin accid',\n",
       " 'nice replac not best valu though',\n",
       " 'defect',\n",
       " 'two cavali king charl spaniel realli like treat',\n",
       " 'awesom product',\n",
       " 'not unlock',\n",
       " 'hard put clip hold tight',\n",
       " 'great product long last',\n",
       " 'one star',\n",
       " 'would buy',\n",
       " 'best wheel ever',\n",
       " 'work cat voluntarili lick',\n",
       " 'put new reef tank happi spectrum bright provid light',\n",
       " 'five star',\n",
       " 'not work advertis',\n",
       " 'four star',\n",
       " 'collar work well bark aussi shepard',\n",
       " 'good qualiti good price',\n",
       " 'keep biter away',\n",
       " 'veri disappoint thread qualiti great',\n",
       " 'bout ever elus vegan deli slice',\n",
       " 'good reason',\n",
       " 'five star',\n",
       " 'four star',\n",
       " 'great product easi use',\n",
       " 'love pay laundri',\n",
       " 'dog love last veri long',\n",
       " 'last long',\n",
       " 'work good',\n",
       " 'great deal',\n",
       " 'flip top',\n",
       " 'perfect size portabl charger travel',\n",
       " 'dog obsess',\n",
       " 'fun last',\n",
       " 'unexpectedli perfect project',\n",
       " 'four star',\n",
       " 'five star',\n",
       " 'five star',\n",
       " 'christma gift daughter law love given anoth set',\n",
       " 'not best not worst good small cat',\n",
       " 'four star',\n",
       " 'like save minut',\n",
       " 'five star',\n",
       " 'yum regular size',\n",
       " 'picki eater love warn qualiti control vari drastic bag bag',\n",
       " 'realli like product',\n",
       " 'not expect',\n",
       " 'sturdi bag not thin',\n",
       " 'not sweet perfect',\n",
       " 'cool thing one storm trash second storm',\n",
       " 'love bed bird',\n",
       " 'quickli finish',\n",
       " 'five star',\n",
       " 'patient anim',\n",
       " 'size could choke dog',\n",
       " 'chihuahua heaven treat lb chi love',\n",
       " '',\n",
       " 'great toy dog',\n",
       " 'great dog food',\n",
       " 'cat flap',\n",
       " 'love tast',\n",
       " 'toss trash one day',\n",
       " 'almost perfect',\n",
       " 'super sharp curv embroideri',\n",
       " 'good price',\n",
       " 'nice small tank shrimp small fish',\n",
       " 'dog love actual last',\n",
       " 'two star',\n",
       " 'happi perform adjust abil',\n",
       " 'love vest great design high qualiti materi job',\n",
       " 'sturdi toy',\n",
       " 'fun not power chewer',\n",
       " 'five star',\n",
       " 'cat love could use upgrad',\n",
       " 'neat printer small good introduct print',\n",
       " 'work wonder rather stinki stink',\n",
       " 'huge help trim nail',\n",
       " 'packag problem',\n",
       " 'work great charg phone long',\n",
       " 'great product',\n",
       " 'good color satur',\n",
       " 'perhap bad batch know',\n",
       " 'good pen write littl thick tast',\n",
       " 'five star',\n",
       " 'fuzz',\n",
       " 'five star',\n",
       " 'one star',\n",
       " 'not dog favorit chew toy lot',\n",
       " 'definit not durabl',\n",
       " 'would buy cheaper store deliv door',\n",
       " 'last time order come lb bag much better store fridg',\n",
       " 'ok pancak mix not favorit',\n",
       " 'two star',\n",
       " 'great oil',\n",
       " 'work great',\n",
       " 'great dog cat',\n",
       " 'sim card adapt',\n",
       " 'pleasant mild tast',\n",
       " 'not tast good',\n",
       " 'great slow feeder',\n",
       " 'lot wast seed',\n",
       " 'pink dog bowl',\n",
       " 'broke right away safeti concern',\n",
       " 'nice bulk purchas',\n",
       " 'two star',\n",
       " 'nice',\n",
       " 'good qualiti',\n",
       " 'five star',\n",
       " 'cover alreadi rip',\n",
       " 'like much',\n",
       " 'great food price cat ask name meowrick',\n",
       " 'great product',\n",
       " 'five star',\n",
       " 'basic xcom great thing',\n",
       " 'four star',\n",
       " 'five star',\n",
       " 'poweradd slim',\n",
       " 'noodl fine vegan chees repuls',\n",
       " 'four star',\n",
       " 'work great',\n",
       " 'lead',\n",
       " 'hold air',\n",
       " 'good e collar',\n",
       " 'best tape ever',\n",
       " 'one star',\n",
       " 'set good long time lb bag',\n",
       " 'flap stay close',\n",
       " 'buy smaller bottl',\n",
       " 'order cat not like textur food',\n",
       " 'not flavor hope',\n",
       " 'great protect great feel warrant',\n",
       " 'five star',\n",
       " 'pretti color',\n",
       " 'look like leather finish eventu wear rub frequent',\n",
       " 'omega dog supplement',\n",
       " 'best thing found short hair',\n",
       " 'one dog',\n",
       " 'work great problem cord',\n",
       " 'nice chew toy',\n",
       " 'good product',\n",
       " 'product work week',\n",
       " 'tast good',\n",
       " 'take guilt use keurig',\n",
       " 'three star',\n",
       " 'not best qualiti',\n",
       " 'let ypu good grip',\n",
       " 'great',\n",
       " 'perfect privaci',\n",
       " 'lb doberman fit bed perfectli',\n",
       " 'good product goe easi',\n",
       " 'complaint',\n",
       " 'five star',\n",
       " 'love bag',\n",
       " 'like alway brand',\n",
       " 'worth money',\n",
       " 'good qualiti brush',\n",
       " 'murphi like',\n",
       " 'good basic protect gs',\n",
       " 'amaz',\n",
       " 'stiff look',\n",
       " 'go wrong kong product',\n",
       " 'five star',\n",
       " 'good pric',\n",
       " 'love scent marker',\n",
       " 'photo paper includ',\n",
       " 'five star',\n",
       " 'satisfi',\n",
       " 'unless usb need one car',\n",
       " 'five star',\n",
       " 'small accur',\n",
       " 'tast good',\n",
       " 'great color select check bead hang plastic',\n",
       " 'five star',\n",
       " 'five star',\n",
       " 'would buy',\n",
       " 'good',\n",
       " 'seem good qualiti close',\n",
       " 'cheapli made broke',\n",
       " 'rat love',\n",
       " 'love',\n",
       " 'love',\n",
       " 'best',\n",
       " 'not mm veri beauti',\n",
       " 'easi instal great product price',\n",
       " 'work great need dispos litter pan',\n",
       " 'top',\n",
       " 'awesom game',\n",
       " 'touch id',\n",
       " 'work great love',\n",
       " 'order accid thought return never made',\n",
       " 'know got bad model stroke feel week fade',\n",
       " 'aw qualiti',\n",
       " 'nice gate good valu',\n",
       " 'go snack',\n",
       " 'look good',\n",
       " 'bitter enjoy without sweeten think',\n",
       " 'best brush',\n",
       " 'work',\n",
       " 'light super bright doesnt charg',\n",
       " 'make best hot chocol mix ever',\n",
       " 'five star',\n",
       " 'buy seller veri nice mix',\n",
       " 'five star',\n",
       " 'heavi duti almost indestruct',\n",
       " 'recommend',\n",
       " 'wast time money',\n",
       " 'noth special',\n",
       " 'blade defect unfortun',\n",
       " 'four star',\n",
       " 'yum',\n",
       " 'sturdi qualiti look',\n",
       " 'drawer desk without',\n",
       " 'qualiti item',\n",
       " 'quick easi updat weber',\n",
       " 'one star',\n",
       " 'buy brand better',\n",
       " 'load fun',\n",
       " 'cl xl cartridg review',\n",
       " 'four star',\n",
       " 'great',\n",
       " 'four star',\n",
       " 'nice notebook',\n",
       " 'great product',\n",
       " 'work quickli effect',\n",
       " 'find green mountain averag',\n",
       " 'return iotti need',\n",
       " 'make tank look more natur',\n",
       " 'bad hip tri mani differ carrier',\n",
       " 'muss fuss',\n",
       " 'star great fine point marker difficult cap remov',\n",
       " 'best ca glue found',\n",
       " 'easi dog allergi',\n",
       " 'love use natur product dog',\n",
       " 'done great job protect wii u',\n",
       " 'great vest fit do like glove',\n",
       " 'great vinegar',\n",
       " 'good assort good pen',\n",
       " 'best cuppa',\n",
       " 'bad qualiti',\n",
       " 'upgrad laser cutter larger more power',\n",
       " 'birthday toy dog love',\n",
       " 'good acid reflux',\n",
       " 'great hang spooki skeleton',\n",
       " 'great toy cat love',\n",
       " 'excel keep bug away',\n",
       " 'great buy',\n",
       " 'great',\n",
       " 'smell great work great',\n",
       " 'regulr size oz skien',\n",
       " 'good qualiti',\n",
       " 'great seed stock alway',\n",
       " 'keep cat entertain awhil',\n",
       " 'save money',\n",
       " 'nice',\n",
       " 'five star',\n",
       " 'clasp size larger would like web wide',\n",
       " 'ok',\n",
       " 'porcupin brush might work better call oster combo brush',\n",
       " 'work',\n",
       " 'work shiba inu longer inhal meal durabl cute',\n",
       " 'perfect',\n",
       " 'four star',\n",
       " 'five star',\n",
       " 'five star',\n",
       " 'made well need more featur',\n",
       " 'way better anticip',\n",
       " 'four star',\n",
       " 'absolut delici',\n",
       " 'bit slow',\n",
       " 'five star',\n",
       " 'five star',\n",
       " 'five star',\n",
       " 'nutramax cosequin sprinkl capsul cat nutramax laboratori inc',\n",
       " 'broke alreadi',\n",
       " 'possibl labradoodl favorit chew toy',\n",
       " 'favorit black ink',\n",
       " 'veri good place start',\n",
       " 'dog love',\n",
       " 'four star',\n",
       " 'work advertis point',\n",
       " 'would recommend',\n",
       " 'new favorit hook',\n",
       " 'know got bad batch',\n",
       " 'didnt like smaller version',\n",
       " 'realli stick',\n",
       " 'keep go back lupin collar not',\n",
       " 'best feel littl odd first',\n",
       " 'five star',\n",
       " 'not work',\n",
       " 'conveni',\n",
       " 'veri disappoint',\n",
       " 'sometim come handl',\n",
       " 'love smell leather',\n",
       " 'great treat',\n",
       " 'great pen',\n",
       " 'definit ye nexu p',\n",
       " 'meh',\n",
       " 'two star',\n",
       " 'four star',\n",
       " 'recommend',\n",
       " 'durabl easi storag',\n",
       " 'advertis',\n",
       " 'tasti strawberri',\n",
       " 'good product',\n",
       " 'ariv time',\n",
       " 'shredder met match',\n",
       " 'five star',\n",
       " 'great brand replac',\n",
       " 'got kitten perfect size bigger bit',\n",
       " 'bunni approv',\n",
       " 'one star',\n",
       " 'okay flimsi',\n",
       " 'bitter',\n",
       " 'good dog seem realli like',\n",
       " 'mount babi',\n",
       " 'great aquarium thermomet',\n",
       " 'one star',\n",
       " 'best case ive ever',\n",
       " 'easi instal',\n",
       " 'soft sturdi well made',\n",
       " 'one star',\n",
       " 'realli like case tri mani',\n",
       " 'work great',\n",
       " 'fake product',\n",
       " 'yummi gone entir quickli',\n",
       " 'one star',\n",
       " 'leav fall',\n",
       " 'great qualiti',\n",
       " 'cat love tast toothpast',\n",
       " 'absolut amaz much hold',\n",
       " 'love bed bird',\n",
       " 'five star',\n",
       " 'easi use accur temperatur',\n",
       " 'love well mulch leav',\n",
       " 'five star',\n",
       " 'nice simpl cover look good',\n",
       " 'five star',\n",
       " 'thing amaz keep german shepherd huski busi',\n",
       " 'solid pen nice smooth line issu stick poor ink flow',\n",
       " 'not smear proof',\n",
       " 'classic mic stand',\n",
       " 'five star',\n",
       " 'great tast good price',\n",
       " 'best tomb raider yet',\n",
       " 'five star',\n",
       " 'never seen dog happi enthral toy',\n",
       " 'realli sensit skin find',\n",
       " 'say',\n",
       " 'not headstrong dog wast money',\n",
       " 'five star',\n",
       " 'work great highli recommend',\n",
       " 'get pay',\n",
       " 'babbl ball black lagoon',\n",
       " 'excel product',\n",
       " 'tast like irish butter',\n",
       " 'could make wig',\n",
       " 'bought anoth one differ brand half cost exact time hold great plu hors could eat one',\n",
       " 'regulr size oz skien',\n",
       " 'xl small lb dog',\n",
       " 'increas potassium level',\n",
       " 'cool creativ game',\n",
       " 'second blueberri collar ruin',\n",
       " 'good',\n",
       " 'good product econom',\n",
       " 'best rice ever',\n",
       " 'nope',\n",
       " 'veri nice look pen',\n",
       " 'veri tough not chewi like suppos',\n",
       " 'cat love bit small',\n",
       " 'veri good look real treat moss profession look',\n",
       " 'perfect chop onion set go cri involv',\n",
       " 'great buy',\n",
       " 'chang',\n",
       " 'leak great buy',\n",
       " 'one came like brick',\n",
       " 'three star',\n",
       " 'work',\n",
       " 'fantast item price',\n",
       " 'want',\n",
       " 'follow instruct compani provid corn',\n",
       " 'solid product mani gener',\n",
       " 'dont bother',\n",
       " 'not work describ',\n",
       " 'pickl horseradish go togeth umm ummm',\n",
       " 'realli work',\n",
       " 'work great',\n",
       " 'like mold',\n",
       " 'great purchas',\n",
       " 'five star',\n",
       " 'look',\n",
       " 'unbeat qualiti price',\n",
       " 'great rang',\n",
       " 'thank valueton make right',\n",
       " 'not check date cake dri way',\n",
       " 'came work fine',\n",
       " 'love litter',\n",
       " 'never go back regular cat litter box',\n",
       " 'anna amd sarah organ pecan bring back larger bag',\n",
       " 'would recommend anyon dog love',\n",
       " 'good qualiti parrot food',\n",
       " 'five star',\n",
       " 'two star',\n",
       " 'work bait peanut butter',\n",
       " 'hmmm',\n",
       " 'five star',\n",
       " 'perfect small bowl',\n",
       " 'five star',\n",
       " 'fun cat tree cat play constantli',\n",
       " 'five star',\n",
       " 'hershey miniatur assort',\n",
       " 'mani block good qualiti',\n",
       " 'great mat super dens',\n",
       " 'ok',\n",
       " 'great product',\n",
       " 'good product',\n",
       " 'get pay more point penni wise pound foolish',\n",
       " 'great cow dog toy',\n",
       " 'small flimsi',\n",
       " 'fresh',\n",
       " 'look good',\n",
       " 'great flavor enhanc',\n",
       " 'even give star',\n",
       " 'complaint',\n",
       " 'five star',\n",
       " 'toasti tabbi',\n",
       " 'not good old pair leather shear',\n",
       " 'three star',\n",
       " 'feel cheap seem work',\n",
       " 'came cool storag sleev',\n",
       " 'okay cat prefer hand held one',\n",
       " 'nice cook',\n",
       " 'could not live without set correectli real cell site hous',\n",
       " 'sturdi',\n",
       " 'four star',\n",
       " 'five star',\n",
       " 'five star',\n",
       " 'solid bodi electr ukulel great idea qualiti control instrument',\n",
       " 'bad smell',\n",
       " 'puppi not interest',\n",
       " 'not medium dog',\n",
       " 'highli recommend cat not get',\n",
       " 'juli dec look great',\n",
       " 'ok pancak mix not favorit',\n",
       " 'put dog food much fun roll around good stimul',\n",
       " 'two star',\n",
       " 'best product market tear stain',\n",
       " 'two star',\n",
       " 'work',\n",
       " 'veri good flavor first bag pellet',\n",
       " 'better expect solidli built',\n",
       " 'five star',\n",
       " 'great',\n",
       " 'great color book enthusiast',\n",
       " 'not quit flea free',\n",
       " 'work great look good',\n",
       " 'fountain pen frienedli yep',\n",
       " 'comfort handl good length',\n",
       " 'hawk approv great valu',\n",
       " 'five star',\n",
       " 'think cat would like',\n",
       " 'final toy cat love',\n",
       " 'tasti',\n",
       " 'super squeaki fun',\n",
       " 'five star',\n",
       " 'work great price',\n",
       " 'love dorito',\n",
       " 'need',\n",
       " 'wife like coffe',\n",
       " 'bright light',\n",
       " 'time',\n",
       " 'like floppi',\n",
       " 'great color ink',\n",
       " 'good catnip toy',\n",
       " 'good product',\n",
       " 'great wireless charger iphon x',\n",
       " 'star',\n",
       " 'more insid outsid veri function',\n",
       " 'tri',\n",
       " 'durabl bulldog love',\n",
       " 'great gel pen eras',\n",
       " 'problem thu far keep',\n",
       " 'not use',\n",
       " 'indent wear',\n",
       " 'five star',\n",
       " 'attract durabl weather proof afford',\n",
       " 'hors love',\n",
       " 'good qualiti water holder',\n",
       " 'use still work',\n",
       " 'not pastel',\n",
       " 'well worth',\n",
       " 'dog like vibrat',\n",
       " 'trim bit poop perfect sold buy',\n",
       " 'five star',\n",
       " 'smell melt easili',\n",
       " 'problem food beauti coat',\n",
       " 'great desk piec gift',\n",
       " 'two star',\n",
       " 'like ultim',\n",
       " 'almost eaten first day',\n",
       " 'love har lb puppi',\n",
       " 'good fish food good price thank',\n",
       " 'rubber mat come fold box',\n",
       " 'work great problem cord',\n",
       " 'five star',\n",
       " 'wish bought work kinda',\n",
       " 'came apart easili',\n",
       " 'still use case year later',\n",
       " 'labrador approv',\n",
       " 'love',\n",
       " 'not work well screen protector',\n",
       " 'nice color',\n",
       " 'three star',\n",
       " 'disappoint',\n",
       " 'usb type c car charger review',\n",
       " 'excel mower expens batteri',\n",
       " 'veri dusti',\n",
       " 'chang',\n",
       " 'fantast',\n",
       " 'great brand',\n",
       " 'great press ruler',\n",
       " 'work great far',\n",
       " 'strong smell',\n",
       " 'horribl',\n",
       " 'love',\n",
       " 'use qi charg devic',\n",
       " 'product offer lical vet fraction cost',\n",
       " 'far good',\n",
       " 'great product',\n",
       " 'two star',\n",
       " 'happen soft tasti gum',\n",
       " 'good',\n",
       " 'must buy',\n",
       " 'fit advertis',\n",
       " 'chang recip',\n",
       " 'arriv promptli excel product well packag',\n",
       " 'eh',\n",
       " 'great job alittl difficult servic',\n",
       " 'sleek happi pig',\n",
       " 'good qualiti tube',\n",
       " 'love',\n",
       " 'best seen',\n",
       " 'ink use think great xl definit hold',\n",
       " 'not enough towel contain',\n",
       " 'work good intend purpos',\n",
       " 'like',\n",
       " 'use three time week get good solid result',\n",
       " 'grown nice coat soft shini',\n",
       " 'sinc bought bissel pet stain remov suck whole mess without wet',\n",
       " 'five star',\n",
       " 'littl mutt pudgi thought',\n",
       " 'classic fun',\n",
       " 'put nice green leav futur flower',\n",
       " 'provid boost realli good flavor',\n",
       " 'more clean spill food water hardwood floor',\n",
       " 'dove promis varieti mix chocol candi',\n",
       " 'four star',\n",
       " 'look good glue show bow well made bow',\n",
       " 'trendi pen',\n",
       " 'given yr old lab much relief not limp anymor',\n",
       " 'must vegan',\n",
       " 'five star',\n",
       " 'toner great price great servic',\n",
       " 'perhap gentl enough',\n",
       " 'buy not fault product',\n",
       " 'may may not good',\n",
       " 'not dawn',\n",
       " 'wear forev',\n",
       " 'not freezabl',\n",
       " 'nice ham flavor',\n",
       " 'barney butter almond butter bare smooth',\n",
       " 'two star',\n",
       " 'bought sever time',\n",
       " 'great',\n",
       " 'five star',\n",
       " 'may break like ialmost',\n",
       " 'seem work veri well',\n",
       " 'good pla filament',\n",
       " 'great',\n",
       " 'fit miusa strat purchas gut',\n",
       " 'super fast charg built well',\n",
       " 'great',\n",
       " 'great deal',\n",
       " 'abil exercis',\n",
       " 'five star',\n",
       " 'hit',\n",
       " 'describ',\n",
       " 'love way feel',\n",
       " 'five star',\n",
       " 'four star',\n",
       " 'highli recommend non heavi hitter',\n",
       " 'three star',\n",
       " 'five star',\n",
       " 'typic',\n",
       " 'highli recommen',\n",
       " 'not last six month',\n",
       " 'overheard say would love ink storag tin',\n",
       " 'five star',\n",
       " 'truli great addit blaze fitbit',\n",
       " 'good qualiti dog leash',\n",
       " 'adequ',\n",
       " 'use more recogn brand cheaper good qualiti',\n",
       " 'addict',\n",
       " 'excel',\n",
       " 'agil weav pole adjust pole set magmar coloni usa inc',\n",
       " 'great goe fast',\n",
       " 'best cat food ever',\n",
       " 'five star',\n",
       " 'good qualiti band',\n",
       " 'perfect need',\n",
       " 'larg',\n",
       " 'expect turn fine made bracelet use',\n",
       " 'rememb lap desk kid knew famili would love one',\n",
       " 'disappoint',\n",
       " 'perfect dish perfect reptil',\n",
       " 'five star',\n",
       " 'cranki old ladi like',\n",
       " 'water qualiti great',\n",
       " 'season sausag tast worst ever',\n",
       " 'five star',\n",
       " 'stuff best state cut',\n",
       " 'great dog bad come',\n",
       " 'five star',\n",
       " 'stick',\n",
       " 'two star',\n",
       " 'get',\n",
       " 'five star',\n",
       " 'littl disappoint',\n",
       " 'failur',\n",
       " 'purchas babylock valiant work great',\n",
       " 'real treat',\n",
       " 'great dog not super rough player',\n",
       " ...]"
      ]
     },
     "execution_count": 18,
     "metadata": {},
     "output_type": "execute_result"
    }
   ],
   "source": [
    "rev=[]\n",
    "\n",
    "for i in range(len(data)):\n",
    "    data1=re.sub('[^a-zA-Z]',' ',data['review'][i])\n",
    "    data1=data1.lower()\n",
    "    data1=data1.split()\n",
    "    data1=[w for w in data1 if w not in stopwords.words('english') or w in ['not','very','more',]]\n",
    "    data1=[s.stem(i) for i in data1]\n",
    "    data1=' '.join(data1)\n",
    "    rev.append(data1)\n",
    "rev"
   ]
  },
  {
   "cell_type": "code",
   "execution_count": 19,
   "id": "e835d4a7",
   "metadata": {
    "scrolled": true
   },
   "outputs": [
    {
     "data": {
      "text/plain": [
       "(8233, 3498)"
      ]
     },
     "execution_count": 19,
     "metadata": {},
     "output_type": "execute_result"
    }
   ],
   "source": [
    "x=cv.fit_transform(rev).toarray()\n",
    "x.shape"
   ]
  },
  {
   "cell_type": "code",
   "execution_count": 20,
   "id": "ecae2dd8",
   "metadata": {},
   "outputs": [],
   "source": [
    "y=data['Rating']"
   ]
  },
  {
   "cell_type": "code",
   "execution_count": 21,
   "id": "d4a8ff4f",
   "metadata": {},
   "outputs": [],
   "source": [
    "strategy = {1:5339, 2:5339, 3:5339, 4:5339, 5:5339}\n",
    "oversample = SMOTE(sampling_strategy=strategy)\n",
    "x, y = oversample.fit_resample(x, y)"
   ]
  },
  {
   "cell_type": "code",
   "execution_count": 22,
   "id": "800df43c",
   "metadata": {
    "scrolled": true
   },
   "outputs": [
    {
     "data": {
      "text/plain": [
       "<AxesSubplot:xlabel='Rating', ylabel='count'>"
      ]
     },
     "execution_count": 22,
     "metadata": {},
     "output_type": "execute_result"
    },
    {
     "data": {
      "image/png": "[encoded data removed]",
      "text/plain": [
       "<Figure size 432x288 with 1 Axes>"
      ]
     },
     "metadata": {
      "needs_background": "light"
     },
     "output_type": "display_data"
    }
   ],
   "source": [
    "sns.countplot(y)"
   ]
  },
  {
   "cell_type": "markdown",
   "id": "9b701ca5",
   "metadata": {},
   "source": [
    "# Model"
   ]
  },
  {
   "cell_type": "code",
   "execution_count": 23,
   "id": "ca490dd1",
   "metadata": {
    "scrolled": true
   },
   "outputs": [],
   "source": [
    "x_train,x_test,y_train,y_test=train_test_split(x,y,test_size=0.2,random_state=40)"
   ]
  },
  {
   "cell_type": "code",
   "execution_count": 24,
   "id": "3d6beb37",
   "metadata": {
    "scrolled": true
   },
   "outputs": [
    {
     "data": {
      "text/plain": [
       "(21356, 3498)"
      ]
     },
     "execution_count": 24,
     "metadata": {},
     "output_type": "execute_result"
    }
   ],
   "source": [
    "x_train.shape"
   ]
  },
  {
   "cell_type": "code",
   "execution_count": 25,
   "id": "01043503",
   "metadata": {
    "scrolled": true
   },
   "outputs": [
    {
     "data": {
      "text/plain": [
       "(21356,)"
      ]
     },
     "execution_count": 25,
     "metadata": {},
     "output_type": "execute_result"
    }
   ],
   "source": [
    "y_train.shape"
   ]
  },
  {
   "cell_type": "code",
   "execution_count": 26,
   "id": "debef052",
   "metadata": {
    "scrolled": true
   },
   "outputs": [
    {
     "data": {
      "text/plain": [
       "array([[0., 0., 0., ..., 0., 0., 0.]])"
      ]
     },
     "execution_count": 26,
     "metadata": {},
     "output_type": "execute_result"
    }
   ],
   "source": [
    "x.reshape(1,-1)"
   ]
  },
  {
   "cell_type": "code",
   "execution_count": 27,
   "id": "5ea749a9",
   "metadata": {},
   "outputs": [],
   "source": [
    "nv=MultinomialNB()"
   ]
  },
  {
   "cell_type": "code",
   "execution_count": 28,
   "id": "07ea2eb9",
   "metadata": {},
   "outputs": [
    {
     "data": {
      "text/plain": [
       "MultinomialNB()"
      ]
     },
     "execution_count": 28,
     "metadata": {},
     "output_type": "execute_result"
    }
   ],
   "source": [
    "nv.fit(x_train,y_train)"
   ]
  },
  {
   "cell_type": "code",
   "execution_count": 29,
   "id": "6a54767f",
   "metadata": {},
   "outputs": [],
   "source": [
    "y_pred=nv.predict(x_test)"
   ]
  },
  {
   "cell_type": "code",
   "execution_count": 30,
   "id": "7f565b34",
   "metadata": {},
   "outputs": [
    {
     "data": {
      "text/plain": [
       "array([[0., 0., 0., ..., 0., 0., 0.],\n",
       "       [0., 0., 0., ..., 0., 0., 0.],\n",
       "       [0., 0., 0., ..., 0., 0., 0.],\n",
       "       ...,\n",
       "       [0., 0., 0., ..., 0., 0., 0.],\n",
       "       [0., 0., 0., ..., 0., 0., 0.],\n",
       "       [0., 0., 0., ..., 0., 0., 0.]])"
      ]
     },
     "execution_count": 30,
     "metadata": {},
     "output_type": "execute_result"
    }
   ],
   "source": [
    "x_test"
   ]
  },
  {
   "cell_type": "markdown",
   "id": "b4a840ec",
   "metadata": {},
   "source": [
    "# Evaluation"
   ]
  },
  {
   "cell_type": "code",
   "execution_count": 31,
   "id": "1b906902",
   "metadata": {
    "scrolled": false
   },
   "outputs": [
    {
     "name": "stdout",
     "output_type": "stream",
     "text": [
      "[[906  92  36  13  12]\n",
      " [ 55 922  59  16   8]\n",
      " [ 71  69 808  38  56]\n",
      " [ 49  74  81 743 186]\n",
      " [ 46  49  67 145 738]]\n"
     ]
    }
   ],
   "source": [
    "print(confusion_matrix(y_test,y_pred))"
   ]
  },
  {
   "cell_type": "code",
   "execution_count": 32,
   "id": "af23ae30",
   "metadata": {
    "scrolled": true
   },
   "outputs": [
    {
     "name": "stdout",
     "output_type": "stream",
     "text": [
      "0.7711181869263907\n"
     ]
    }
   ],
   "source": [
    "print(accuracy_score(y_test,y_pred))"
   ]
  },
  {
   "cell_type": "code",
   "execution_count": 33,
   "id": "2e065635",
   "metadata": {
    "scrolled": true
   },
   "outputs": [
    {
     "name": "stdout",
     "output_type": "stream",
     "text": [
      "              precision    recall  f1-score   support\n",
      "\n",
      "           1       0.80      0.86      0.83      1059\n",
      "           2       0.76      0.87      0.81      1060\n",
      "           3       0.77      0.78      0.77      1042\n",
      "           4       0.78      0.66      0.71      1133\n",
      "           5       0.74      0.71      0.72      1045\n",
      "\n",
      "    accuracy                           0.77      5339\n",
      "   macro avg       0.77      0.77      0.77      5339\n",
      "weighted avg       0.77      0.77      0.77      5339\n",
      "\n"
     ]
    }
   ],
   "source": [
    "print(classification_report(y_test,y_pred))"
   ]
  },
  {
   "cell_type": "code",
   "execution_count": 34,
   "id": "fabfe52d",
   "metadata": {},
   "outputs": [
    {
     "data": {
      "text/plain": [
       "(26695, 3498)"
      ]
     },
     "execution_count": 34,
     "metadata": {},
     "output_type": "execute_result"
    }
   ],
   "source": [
    "x.shape"
   ]
  },
  {
   "cell_type": "code",
   "execution_count": 1,
   "id": "356c99d7",
   "metadata": {
    "scrolled": true
   },
   "outputs": [
    {
     "name": "stdout",
     "output_type": "stream",
     "text": [
      "bad product\n"
     ]
    },
    {
     "ename": "NameError",
     "evalue": "name 're' is not defined",
     "output_type": "error",
     "traceback": [
      "\u001b[1;31m---------------------------------------------------------------------------\u001b[0m",
      "\u001b[1;31mNameError\u001b[0m                                 Traceback (most recent call last)",
      "Input \u001b[1;32mIn [1]\u001b[0m, in \u001b[0;36m<cell line: 2>\u001b[1;34m()\u001b[0m\n\u001b[0;32m      1\u001b[0m z\u001b[38;5;241m=\u001b[39m\u001b[38;5;28minput\u001b[39m()\n\u001b[1;32m----> 2\u001b[0m z\u001b[38;5;241m=\u001b[39m\u001b[43mre\u001b[49m\u001b[38;5;241m.\u001b[39msub(\u001b[38;5;124m'\u001b[39m\u001b[38;5;124m[^a-zA-Z]\u001b[39m\u001b[38;5;124m'\u001b[39m,\u001b[38;5;124m'\u001b[39m\u001b[38;5;124m \u001b[39m\u001b[38;5;124m'\u001b[39m,z)\n\u001b[0;32m      3\u001b[0m z\u001b[38;5;241m=\u001b[39mz\u001b[38;5;241m.\u001b[39mlower()\n\u001b[0;32m      4\u001b[0m z\u001b[38;5;241m=\u001b[39mz\u001b[38;5;241m.\u001b[39msplit()\n",
      "\u001b[1;31mNameError\u001b[0m: name 're' is not defined"
     ]
    }
   ],
   "source": [
    "z=input()\n",
    "z=re.sub('[^a-zA-Z]',' ',z)\n",
    "z=z.lower()\n",
    "z=z.split()\n",
    "z1=[]\n",
    "for word in z:\n",
    "    if word not in stopwords.words('english'):\n",
    "        z1.append(word)\n",
    "    if word in (['not','very','more','wasnt']):\n",
    "        a1.append(word)\n",
    "s=PorterStemmer()\n",
    "z2=[]\n",
    "for i in z1:\n",
    "    v=s.stem(i)\n",
    "    z2.append(v)\n",
    "z2\n",
    "z=' '.join(z2)\n",
    "z=np.array([z])\n",
    "z1=cv.transform(z)\n",
    "print(z1)\n",
    "nv.predict(z1)"
   ]
  },
  {
   "cell_type": "code",
   "execution_count": 36,
   "id": "24626ae5",
   "metadata": {},
   "outputs": [
    {
     "data": {
      "text/plain": [
       "(5339, 3498)"
      ]
     },
     "execution_count": 36,
     "metadata": {},
     "output_type": "execute_result"
    }
   ],
   "source": [
    "x_test.shape"
   ]
  },
  {
   "cell_type": "code",
   "execution_count": 37,
   "id": "7855032f",
   "metadata": {},
   "outputs": [],
   "source": [
    "import pickle \n",
    "with open('finalized_model.pkl','wb') as fout:\n",
    "    pickle.dump((cv,nv),fout)"
   ]
  },
  {
   "cell_type": "markdown",
   "id": "3bae8a8b",
   "metadata": {},
   "source": [
    "# Example"
   ]
  },
  {
   "cell_type": "code",
   "execution_count": 38,
   "id": "aa40d20a",
   "metadata": {},
   "outputs": [],
   "source": [
    "import pandas as pd"
   ]
  },
  {
   "cell_type": "code",
   "execution_count": 39,
   "id": "b527ff1d",
   "metadata": {
    "scrolled": true
   },
   "outputs": [
    {
     "name": "stderr",
     "output_type": "stream",
     "text": [
      "[nltk_data] Downloading package vader_lexicon to\n",
      "[nltk_data]     C:\\Users\\W10\\AppData\\Roaming\\nltk_data...\n",
      "[nltk_data]   Package vader_lexicon is already up-to-date!\n"
     ]
    },
    {
     "data": {
      "text/plain": [
       "True"
      ]
     },
     "execution_count": 39,
     "metadata": {},
     "output_type": "execute_result"
    }
   ],
   "source": [
    "import nltk\n",
    "nltk.download('vader_lexicon')"
   ]
  },
  {
   "cell_type": "code",
   "execution_count": 2,
   "id": "ab2c2211",
   "metadata": {},
   "outputs": [],
   "source": [
    "from nltk.sentiment import SentimentIntensityAnalyzer"
   ]
  },
  {
   "cell_type": "code",
   "execution_count": 3,
   "id": "f31494db",
   "metadata": {},
   "outputs": [],
   "source": [
    "sia=SentimentIntensityAnalyzer()"
   ]
  },
  {
   "cell_type": "code",
   "execution_count": 42,
   "id": "0be03d6a",
   "metadata": {
    "scrolled": true
   },
   "outputs": [
    {
     "data": {
      "application/vnd.jupyter.widget-view+json": {
       "model_id": "37c3ba2e92d94b178ad4b05592f6356d",
       "version_major": 2,
       "version_minor": 0
      },
      "text/plain": [
       "  0%|          | 0/8233 [00:00<?, ?it/s]"
      ]
     },
     "metadata": {},
     "output_type": "display_data"
    },
    {
     "ename": "KeyError",
     "evalue": "'Review'",
     "output_type": "error",
     "traceback": [
      "\u001b[1;31m---------------------------------------------------------------------------\u001b[0m",
      "\u001b[1;31mKeyError\u001b[0m                                  Traceback (most recent call last)",
      "File \u001b[1;32m~\\anaconda3\\lib\\site-packages\\pandas\\core\\indexes\\base.py:3621\u001b[0m, in \u001b[0;36mIndex.get_loc\u001b[1;34m(self, key, method, tolerance)\u001b[0m\n\u001b[0;32m   3620\u001b[0m \u001b[38;5;28;01mtry\u001b[39;00m:\n\u001b[1;32m-> 3621\u001b[0m     \u001b[38;5;28;01mreturn\u001b[39;00m \u001b[38;5;28;43mself\u001b[39;49m\u001b[38;5;241;43m.\u001b[39;49m\u001b[43m_engine\u001b[49m\u001b[38;5;241;43m.\u001b[39;49m\u001b[43mget_loc\u001b[49m\u001b[43m(\u001b[49m\u001b[43mcasted_key\u001b[49m\u001b[43m)\u001b[49m\n\u001b[0;32m   3622\u001b[0m \u001b[38;5;28;01mexcept\u001b[39;00m \u001b[38;5;167;01mKeyError\u001b[39;00m \u001b[38;5;28;01mas\u001b[39;00m err:\n",
      "File \u001b[1;32m~\\anaconda3\\lib\\site-packages\\pandas\\_libs\\index.pyx:136\u001b[0m, in \u001b[0;36mpandas._libs.index.IndexEngine.get_loc\u001b[1;34m()\u001b[0m\n",
      "File \u001b[1;32m~\\anaconda3\\lib\\site-packages\\pandas\\_libs\\index.pyx:163\u001b[0m, in \u001b[0;36mpandas._libs.index.IndexEngine.get_loc\u001b[1;34m()\u001b[0m\n",
      "File \u001b[1;32mpandas\\_libs\\hashtable_class_helper.pxi:5198\u001b[0m, in \u001b[0;36mpandas._libs.hashtable.PyObjectHashTable.get_item\u001b[1;34m()\u001b[0m\n",
      "File \u001b[1;32mpandas\\_libs\\hashtable_class_helper.pxi:5206\u001b[0m, in \u001b[0;36mpandas._libs.hashtable.PyObjectHashTable.get_item\u001b[1;34m()\u001b[0m\n",
      "\u001b[1;31mKeyError\u001b[0m: 'Review'",
      "\nThe above exception was the direct cause of the following exception:\n",
      "\u001b[1;31mKeyError\u001b[0m                                  Traceback (most recent call last)",
      "Input \u001b[1;32mIn [42]\u001b[0m, in \u001b[0;36m<cell line: 2>\u001b[1;34m()\u001b[0m\n\u001b[0;32m      1\u001b[0m dicc\u001b[38;5;241m=\u001b[39m{}\n\u001b[0;32m      2\u001b[0m \u001b[38;5;28;01mfor\u001b[39;00m i , row \u001b[38;5;129;01min\u001b[39;00m tqdm(data\u001b[38;5;241m.\u001b[39miterrows(),total\u001b[38;5;241m=\u001b[39m\u001b[38;5;28mlen\u001b[39m(data)):\n\u001b[1;32m----> 3\u001b[0m     text\u001b[38;5;241m=\u001b[39m\u001b[43mrow\u001b[49m\u001b[43m[\u001b[49m\u001b[38;5;124;43m'\u001b[39;49m\u001b[38;5;124;43mReview\u001b[39;49m\u001b[38;5;124;43m'\u001b[39;49m\u001b[43m]\u001b[49m\n\u001b[0;32m      4\u001b[0m     myid\u001b[38;5;241m=\u001b[39mrow[\u001b[38;5;124m'\u001b[39m\u001b[38;5;124mcustomer_id\u001b[39m\u001b[38;5;124m'\u001b[39m]\n\u001b[0;32m      5\u001b[0m     dicc[myid]\u001b[38;5;241m=\u001b[39msia\u001b[38;5;241m.\u001b[39mpolarity_scores(text)\n",
      "File \u001b[1;32m~\\anaconda3\\lib\\site-packages\\pandas\\core\\series.py:958\u001b[0m, in \u001b[0;36mSeries.__getitem__\u001b[1;34m(self, key)\u001b[0m\n\u001b[0;32m    955\u001b[0m     \u001b[38;5;28;01mreturn\u001b[39;00m \u001b[38;5;28mself\u001b[39m\u001b[38;5;241m.\u001b[39m_values[key]\n\u001b[0;32m    957\u001b[0m \u001b[38;5;28;01melif\u001b[39;00m key_is_scalar:\n\u001b[1;32m--> 958\u001b[0m     \u001b[38;5;28;01mreturn\u001b[39;00m \u001b[38;5;28;43mself\u001b[39;49m\u001b[38;5;241;43m.\u001b[39;49m\u001b[43m_get_value\u001b[49m\u001b[43m(\u001b[49m\u001b[43mkey\u001b[49m\u001b[43m)\u001b[49m\n\u001b[0;32m    960\u001b[0m \u001b[38;5;28;01mif\u001b[39;00m is_hashable(key):\n\u001b[0;32m    961\u001b[0m     \u001b[38;5;66;03m# Otherwise index.get_value will raise InvalidIndexError\u001b[39;00m\n\u001b[0;32m    962\u001b[0m     \u001b[38;5;28;01mtry\u001b[39;00m:\n\u001b[0;32m    963\u001b[0m         \u001b[38;5;66;03m# For labels that don't resolve as scalars like tuples and frozensets\u001b[39;00m\n",
      "File \u001b[1;32m~\\anaconda3\\lib\\site-packages\\pandas\\core\\series.py:1069\u001b[0m, in \u001b[0;36mSeries._get_value\u001b[1;34m(self, label, takeable)\u001b[0m\n\u001b[0;32m   1066\u001b[0m     \u001b[38;5;28;01mreturn\u001b[39;00m \u001b[38;5;28mself\u001b[39m\u001b[38;5;241m.\u001b[39m_values[label]\n\u001b[0;32m   1068\u001b[0m \u001b[38;5;66;03m# Similar to Index.get_value, but we do not fall back to positional\u001b[39;00m\n\u001b[1;32m-> 1069\u001b[0m loc \u001b[38;5;241m=\u001b[39m \u001b[38;5;28;43mself\u001b[39;49m\u001b[38;5;241;43m.\u001b[39;49m\u001b[43mindex\u001b[49m\u001b[38;5;241;43m.\u001b[39;49m\u001b[43mget_loc\u001b[49m\u001b[43m(\u001b[49m\u001b[43mlabel\u001b[49m\u001b[43m)\u001b[49m\n\u001b[0;32m   1070\u001b[0m \u001b[38;5;28;01mreturn\u001b[39;00m \u001b[38;5;28mself\u001b[39m\u001b[38;5;241m.\u001b[39mindex\u001b[38;5;241m.\u001b[39m_get_values_for_loc(\u001b[38;5;28mself\u001b[39m, loc, label)\n",
      "File \u001b[1;32m~\\anaconda3\\lib\\site-packages\\pandas\\core\\indexes\\base.py:3623\u001b[0m, in \u001b[0;36mIndex.get_loc\u001b[1;34m(self, key, method, tolerance)\u001b[0m\n\u001b[0;32m   3621\u001b[0m     \u001b[38;5;28;01mreturn\u001b[39;00m \u001b[38;5;28mself\u001b[39m\u001b[38;5;241m.\u001b[39m_engine\u001b[38;5;241m.\u001b[39mget_loc(casted_key)\n\u001b[0;32m   3622\u001b[0m \u001b[38;5;28;01mexcept\u001b[39;00m \u001b[38;5;167;01mKeyError\u001b[39;00m \u001b[38;5;28;01mas\u001b[39;00m err:\n\u001b[1;32m-> 3623\u001b[0m     \u001b[38;5;28;01mraise\u001b[39;00m \u001b[38;5;167;01mKeyError\u001b[39;00m(key) \u001b[38;5;28;01mfrom\u001b[39;00m \u001b[38;5;21;01merr\u001b[39;00m\n\u001b[0;32m   3624\u001b[0m \u001b[38;5;28;01mexcept\u001b[39;00m \u001b[38;5;167;01mTypeError\u001b[39;00m:\n\u001b[0;32m   3625\u001b[0m     \u001b[38;5;66;03m# If we have a listlike key, _check_indexing_error will raise\u001b[39;00m\n\u001b[0;32m   3626\u001b[0m     \u001b[38;5;66;03m#  InvalidIndexError. Otherwise we fall through and re-raise\u001b[39;00m\n\u001b[0;32m   3627\u001b[0m     \u001b[38;5;66;03m#  the TypeError.\u001b[39;00m\n\u001b[0;32m   3628\u001b[0m     \u001b[38;5;28mself\u001b[39m\u001b[38;5;241m.\u001b[39m_check_indexing_error(key)\n",
      "\u001b[1;31mKeyError\u001b[0m: 'Review'"
     ]
    }
   ],
   "source": [
    "dicc={}\n",
    "for i , row in tqdm(data.iterrows(),total=len(data)):\n",
    "    text=row['Review']\n",
    "    myid=row['customer_id']\n",
    "    dicc[myid]=sia.polarity_scores(text)\n",
    "dicc"
   ]
  },
  {
   "cell_type": "code",
   "execution_count": null,
   "id": "d7986f51",
   "metadata": {
    "scrolled": false
   },
   "outputs": [],
   "source": [
    "data1=pd.DataFrame(dicc).T\n",
    "data1"
   ]
  },
  {
   "cell_type": "code",
   "execution_count": null,
   "id": "e39d3d55",
   "metadata": {
    "scrolled": false
   },
   "outputs": [],
   "source": [
    "data.set_index('customer_id',inplace=True)"
   ]
  },
  {
   "cell_type": "code",
   "execution_count": null,
   "id": "65b37bbe",
   "metadata": {},
   "outputs": [],
   "source": [
    "data"
   ]
  },
  {
   "cell_type": "code",
   "execution_count": null,
   "id": "635833db",
   "metadata": {
    "scrolled": false
   },
   "outputs": [],
   "source": [
    "data1=data1.join(data)"
   ]
  },
  {
   "cell_type": "code",
   "execution_count": null,
   "id": "0ea45c4b",
   "metadata": {
    "scrolled": true
   },
   "outputs": [],
   "source": [
    "data1.info()"
   ]
  },
  {
   "cell_type": "code",
   "execution_count": null,
   "id": "b5cbdd63",
   "metadata": {
    "scrolled": false
   },
   "outputs": [],
   "source": [
    "data1"
   ]
  },
  {
   "cell_type": "code",
   "execution_count": null,
   "id": "b376b884",
   "metadata": {
    "scrolled": false
   },
   "outputs": [],
   "source": [
    "X=np.array(data1[['neg','neu','pos','compound']])\n",
    "Y=data1[['Rating']]\n",
    "X"
   ]
  },
  {
   "cell_type": "code",
   "execution_count": null,
   "id": "2fb1dd18",
   "metadata": {},
   "outputs": [],
   "source": [
    "strategy = {1:4000, 2:4000, 3:4000, 4:5000, 5:5339}\n",
    "oversample = SMOTE(sampling_strategy=strategy)\n",
    "x, y = oversample.fit_resample(X, Y)"
   ]
  },
  {
   "cell_type": "code",
   "execution_count": null,
   "id": "8774f10f",
   "metadata": {
    "scrolled": true
   },
   "outputs": [],
   "source": [
    "X_train,X_test,Y_train,Y_test=train_test_split(x,y,test_size=0.2,random_state=45)"
   ]
  },
  {
   "cell_type": "code",
   "execution_count": null,
   "id": "4565b1f5",
   "metadata": {},
   "outputs": [],
   "source": [
    "nv=MultinomialNB()"
   ]
  },
  {
   "cell_type": "code",
   "execution_count": null,
   "id": "894f2ea2",
   "metadata": {
    "scrolled": true
   },
   "outputs": [],
   "source": [
    "nv.fit(X_train,Y_train)"
   ]
  },
  {
   "cell_type": "code",
   "execution_count": null,
   "id": "3203a066",
   "metadata": {},
   "outputs": [],
   "source": [
    "y_pred=nv.predict(X_test)"
   ]
  },
  {
   "cell_type": "code",
   "execution_count": null,
   "id": "f722515a",
   "metadata": {
    "scrolled": true
   },
   "outputs": [],
   "source": [
    "print(confusion_matrix(Y_test,y_pred))"
   ]
  },
  {
   "cell_type": "code",
   "execution_count": null,
   "id": "4691e274",
   "metadata": {
    "scrolled": true
   },
   "outputs": [],
   "source": [
    "print(accuracy_score(Y_test,y_pred))"
   ]
  },
  {
   "cell_type": "code",
   "execution_count": null,
   "id": "f0823dac",
   "metadata": {},
   "outputs": [],
   "source": [
    "dc=KNeighborsClassifier(100)"
   ]
  },
  {
   "cell_type": "code",
   "execution_count": null,
   "id": "7f7fe24c",
   "metadata": {},
   "outputs": [],
   "source": [
    "dc.fit(X_train,Y_train)"
   ]
  },
  {
   "cell_type": "code",
   "execution_count": null,
   "id": "7cf0aced",
   "metadata": {},
   "outputs": [],
   "source": [
    "Y_pred1=dc.predict(X_test)"
   ]
  },
  {
   "cell_type": "code",
   "execution_count": null,
   "id": "9bb3f432",
   "metadata": {
    "scrolled": true
   },
   "outputs": [],
   "source": [
    "print(confusion_matrix(Y_test,Y_pred1))"
   ]
  },
  {
   "cell_type": "code",
   "execution_count": null,
   "id": "0e39d025",
   "metadata": {
    "scrolled": true
   },
   "outputs": [],
   "source": [
    "print(accuracy_score(Y_test,Y_pred1))"
   ]
  },
  {
   "cell_type": "code",
   "execution_count": null,
   "id": "b2aeed1f",
   "metadata": {
    "scrolled": true
   },
   "outputs": [],
   "source": [
    "lr=LogisticRegression()"
   ]
  },
  {
   "cell_type": "code",
   "execution_count": null,
   "id": "c989381b",
   "metadata": {},
   "outputs": [],
   "source": [
    "lr.fit(X_train,Y_train)"
   ]
  },
  {
   "cell_type": "code",
   "execution_count": null,
   "id": "1fdf8f97",
   "metadata": {},
   "outputs": [],
   "source": [
    "Y_pred=lr.predict(X_test)"
   ]
  },
  {
   "cell_type": "code",
   "execution_count": null,
   "id": "75234754",
   "metadata": {},
   "outputs": [],
   "source": [
    "print(accuracy_score(Y_test,Y_pred))"
   ]
  },
  {
   "cell_type": "code",
   "execution_count": null,
   "id": "aeaa93c2",
   "metadata": {},
   "outputs": [],
   "source": [
    "z=sia.polarity_scores('one star')\n",
    "a=np.array(list(z.values())).reshape(1,-1)\n",
    "print(a)\n",
    "lr.predict(a)"
   ]
  },
  {
   "cell_type": "code",
   "execution_count": null,
   "id": "fd3a6891",
   "metadata": {},
   "outputs": [],
   "source": [
    "r=RandomForestClassifier()"
   ]
  },
  {
   "cell_type": "code",
   "execution_count": null,
   "id": "a369bcc5",
   "metadata": {},
   "outputs": [],
   "source": [
    "r.fit(X_train,Y_train)"
   ]
  },
  {
   "cell_type": "code",
   "execution_count": null,
   "id": "e576540f",
   "metadata": {},
   "outputs": [],
   "source": [
    "Y_pred2=r.predict(X_test)"
   ]
  },
  {
   "cell_type": "code",
   "execution_count": null,
   "id": "df420b21",
   "metadata": {
    "scrolled": true
   },
   "outputs": [],
   "source": [
    "print(confusion_matrix(Y_test,Y_pred2))"
   ]
  },
  {
   "cell_type": "code",
   "execution_count": null,
   "id": "27dd5c47",
   "metadata": {},
   "outputs": [],
   "source": [
    "print(accuracy_score(Y_test,Y_pred2))"
   ]
  },
  {
   "cell_type": "code",
   "execution_count": null,
   "id": "d11c3202",
   "metadata": {},
   "outputs": [],
   "source": [
    "x=sia.polarity_scores('fucking amazing')\n",
    "x"
   ]
  },
  {
   "cell_type": "code",
   "execution_count": null,
   "id": "f8a51426",
   "metadata": {},
   "outputs": [],
   "source": [
    "data=pd.DataFrame.from_dict(x).reset_index()\n",
    "data"
   ]
  },
  {
   "cell_type": "code",
   "execution_count": 4,
   "id": "7d368435",
   "metadata": {},
   "outputs": [
    {
     "data": {
      "text/plain": [
       "{'neg': 0.067, 'neu': 0.673, 'pos': 0.259, 'compound': 0.7047}"
      ]
     },
     "execution_count": 4,
     "metadata": {},
     "output_type": "execute_result"
    }
   ],
   "source": [
    "sia.polarity_scores('I enjoy reading this to my grandsons.  Its not as funny as the wordless Frog books, but its fun to read')"
   ]
  },
  {
   "cell_type": "code",
   "execution_count": 9,
   "id": "b06c85c9",
   "metadata": {},
   "outputs": [
    {
     "data": {
      "text/plain": [
       "{'neg': 0.63, 'neu': 0.37, 'pos': 0.0, 'compound': -0.5267}"
      ]
     },
     "execution_count": 9,
     "metadata": {},
     "output_type": "execute_result"
    }
   ],
   "source": [
    "sia.polarity_scores('you are stupid')"
   ]
  },
  {
   "cell_type": "code",
   "execution_count": null,
   "id": "5a956e05",
   "metadata": {},
   "outputs": [],
   "source": []
  },
  {
   "cell_type": "code",
   "execution_count": null,
   "id": "e68ada90",
   "metadata": {},
   "outputs": [],
   "source": []
  },
  {
   "cell_type": "code",
   "execution_count": null,
   "id": "7d7553ab",
   "metadata": {},
   "outputs": [],
   "source": []
  },
  {
   "cell_type": "code",
   "execution_count": null,
   "id": "acc5a313",
   "metadata": {},
   "outputs": [],
   "source": []
  },
  {
   "cell_type": "code",
   "execution_count": null,
   "id": "487d6b6b",
   "metadata": {},
   "outputs": [],
   "source": []
  }
 ],
 "metadata": {
  "kernelspec": {
   "display_name": "Python 3 (ipykernel)",
   "language": "python",
   "name": "python3"
  },
  "language_info": {
   "codemirror_mode": {
    "name": "ipython",
    "version": 3
   },
   "file_extension": ".py",
   "mimetype": "text/x-python",
   "name": "python",
   "nbconvert_exporter": "python",
   "pygments_lexer": "ipython3",
   "version": "3.9.12"
  }
 },
 "nbformat": 4,
 "nbformat_minor": 5
}
